{
  "nbformat": 4,
  "nbformat_minor": 0,
  "metadata": {
    "colab": {
      "name": "Thompson_Sampling.ipynb",
      "provenance": [],
      "collapsed_sections": [],
      "toc_visible": true,
      "authorship_tag": "ABX9TyOgv9IycT43GvxYwE9GMHv2",
      "include_colab_link": true
    },
    "kernelspec": {
      "name": "python3",
      "display_name": "Python 3"
    }
  },
  "cells": [
    {
      "cell_type": "markdown",
      "metadata": {
        "id": "view-in-github",
        "colab_type": "text"
      },
      "source": [
        "<a href=\"https://colab.research.google.com/github/Pradeep23-01/ML-models-implementaions/blob/main/Thompson_Sampling.ipynb\" target=\"_parent\"><img src=\"https://colab.research.google.com/assets/colab-badge.svg\" alt=\"Open In Colab\"/></a>"
      ]
    },
    {
      "cell_type": "markdown",
      "metadata": {
        "id": "XwJeV2ywK7j3"
      },
      "source": [
        "# Importing the libreries"
      ]
    },
    {
      "cell_type": "code",
      "metadata": {
        "id": "wPXFX2u8LBLy"
      },
      "source": [
        "import numpy as np\n",
        "import matplotlib.pyplot as plt\n",
        "import pandas as pd"
      ],
      "execution_count": null,
      "outputs": []
    },
    {
      "cell_type": "markdown",
      "metadata": {
        "id": "vpf4cqBALMWC"
      },
      "source": [
        "# Importing the Dataset"
      ]
    },
    {
      "cell_type": "code",
      "metadata": {
        "id": "BmEATWyDLP77"
      },
      "source": [
        "dataset=pd.read_csv(\"Ads_CTR_Optimisation.csv\")"
      ],
      "execution_count": null,
      "outputs": []
    },
    {
      "cell_type": "markdown",
      "metadata": {
        "id": "MM8Qmm9ALoO_"
      },
      "source": [
        "# Implementing the Thompson Sampling Algorithm"
      ]
    },
    {
      "cell_type": "code",
      "metadata": {
        "id": "Ic1ht2lfL6gs"
      },
      "source": [
        "import random\n",
        "N=10000\n",
        "d=10\n",
        "ads_selected=[]\n",
        "number_of_rewards_0=[0]*d\n",
        "number_of_rewards_1=[0]*d\n",
        "total_rewards=0\n",
        "for n in range(0,N):\n",
        "  ad=0\n",
        "  max_reward=0\n",
        "  for i in range(0,d):\n",
        "    random_beta= random.betavariate(number_of_rewards_1[i]+1,number_of_rewards_0[i]+1)\n",
        "    if(max_reward<random_beta):\n",
        "      max_reward=random_beta\n",
        "      ad=i\n",
        "ads_selected.append(ad)\n",
        "reward=dataset.values[n,ad]\n",
        "if reward==1:\n",
        "  number_of_rewards_1[ad]=number_of_rewards_1[ad]+1\n",
        "else:\n",
        "  number_of_rewards_0[ad]=number_of_rewards_0[ad]+1\n",
        "total_rewards=total_rewards+reward"
      ],
      "execution_count": null,
      "outputs": []
    },
    {
      "cell_type": "markdown",
      "metadata": {
        "id": "AqcIiRO3U3qR"
      },
      "source": [
        "# Visualisation of results"
      ]
    },
    {
      "cell_type": "code",
      "metadata": {
        "id": "mdOz8EOvU8Ms",
        "colab": {
          "base_uri": "https://localhost:8080/",
          "height": 295
        },
        "outputId": "7879669d-7e96-49da-917f-7659844855dc"
      },
      "source": [
        "plt.hist(ads_selected)\n",
        "plt.title(\"The Histogram of Thompson Model\")\n",
        "plt.xlabel(\"Ads\")\n",
        "plt.ylabel(\"No.of times each ad was selected\")\n",
        "plt.show()"
      ],
      "execution_count": null,
      "outputs": [
        {
          "output_type": "display_data",
          "data": {
            "image/png": "[encoded data removed]",
            "text/plain": [
              "<Figure size 432x288 with 1 Axes>"
            ]
          },
          "metadata": {
            "tags": [],
            "needs_background": "light"
          }
        }
      ]
    }
  ]
}